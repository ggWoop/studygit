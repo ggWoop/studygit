{
 "cells": [
  {
   "cell_type": "code",
   "execution_count": 4,
   "id": "5694ca97-8794-4c4a-bcd0-9df78ee447f7",
   "metadata": {
    "tags": []
   },
   "outputs": [
    {
     "name": "stderr",
     "output_type": "stream",
     "text": [
      "100%|█████████████████████████████████████████████████████████████████████████| 54214/54214 [00:04<00:00, 13210.50it/s]\n"
     ]
    }
   ],
   "source": [
    "import pandas as pd\n",
    "from tqdm import tqdm\n",
    "\n",
    "tqdm.pandas()\n",
    "df = pd.read_csv(\"./data/movies_preprocessed.csv\")\n",
    "df[\"all_tokens\"] = df[\"all_tokens\"].progress_apply(lambda x: eval(x))"
   ]
  },
  {
   "cell_type": "code",
   "execution_count": 5,
   "id": "3494b9ef-4360-43eb-a426-5eb1547c4083",
   "metadata": {
    "tags": []
   },
   "outputs": [],
   "source": [
    "import pandas as pd\n",
    "from sklearn.feature_extraction.text import TfidfVectorizer\n",
    "from sklearn.metrics.pairwise import cosine_similarity\n",
    "\n",
    "df['all_tokens'] = df['all_tokens'].apply(lambda tokens: ' '.join(tokens))\n",
    "\n",
    "# Vectorize the 'all_tokens' column\n",
    "tfidf_vectorizer = TfidfVectorizer()\n",
    "tfidf_matrix = tfidf_vectorizer.fit_transform(df['all_tokens'])\n",
    "tfidf_csr_matrix = tfidf_matrix.tocsr()\n",
    "\n",
    "# Define the tfidf_search function\n",
    "def tfidf_search(query, k=5):\n",
    "    query_csr_matrix = tfidf_vectorizer.transform([query])\n",
    "    similarities = cosine_similarity(query_csr_matrix, tfidf_csr_matrix).flatten()\n",
    "    top_similarities = sorted(similarities, reverse=True)[:k]\n",
    "    top_indices = similarities.argsort()[-k:][::-1]\n",
    "    top_titles = [df.iloc[i]['title'] for i in top_indices]\n",
    "    for top_title, top_similarity in zip(top_titles, top_similarities):\n",
    "        print(round(top_similarity, 4), top_title)\n",
    "\n"
   ]
  },
  {
   "cell_type": "code",
   "execution_count": 19,
   "id": "908ddced-4d8a-4cd7-b2b4-a42f35b267f5",
   "metadata": {
    "tags": []
   },
   "outputs": [
    {
     "name": "stdout",
     "output_type": "stream",
     "text": [
      "0.692 James Bond: Shaken and Stirred (1997)\n",
      "0.5631 James Bond: Licence to Thrill (1987)\n",
      "0.5207 My Name Is Bond... James Bond (1979)\n",
      "0.4933 \"Movie Television\" (1997)\n",
      "0.4767 The James Bond Story (1999)\n"
     ]
    }
   ],
   "source": [
    "# Execute the tfidf_search function\n",
    "query = 'James Bond'\n",
    "tfidf_search(query)"
   ]
  },
  {
   "cell_type": "code",
   "execution_count": 20,
   "id": "a560e982-6623-493a-b802-2956a7a11ea5",
   "metadata": {
    "tags": []
   },
   "outputs": [
    {
     "name": "stdout",
     "output_type": "stream",
     "text": [
      "0.6392 I'll Be Next Door for Christmas (2018)\n",
      "0.628 This Year for Christmas (2006)\n",
      "0.6097 \"Journey to Christmas\" (2011)\n",
      "0.6096 Snowflake Symphony Christmas Special (2009)\n",
      "0.6083 Christmas Lights Across America (2013)\n"
     ]
    }
   ],
   "source": [
    "\n",
    "query = 'Christmas'\n",
    "tfidf_search(query)"
   ]
  },
  {
   "cell_type": "code",
   "execution_count": null,
   "id": "fd0827ff-6ab4-47d2-848c-17e040a8c8fb",
   "metadata": {},
   "outputs": [],
   "source": [
    "Captain America"
   ]
  }
 ],
 "metadata": {
  "kernelspec": {
   "display_name": "Python 3 (ipykernel)",
   "language": "python",
   "name": "python3"
  },
  "language_info": {
   "codemirror_mode": {
    "name": "ipython",
    "version": 3
   },
   "file_extension": ".py",
   "mimetype": "text/x-python",
   "name": "python",
   "nbconvert_exporter": "python",
   "pygments_lexer": "ipython3",
   "version": "3.11.3"
  }
 },
 "nbformat": 4,
 "nbformat_minor": 5
}
