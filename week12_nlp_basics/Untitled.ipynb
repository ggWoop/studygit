{
 "cells": [
  {
   "cell_type": "code",
   "execution_count": 2,
   "id": "c5b2885d-ea3d-4aa8-b9c1-d91cc5c9ffd7",
   "metadata": {
    "tags": []
   },
   "outputs": [],
   "source": [
    "import pandas as pd\n",
    "\n",
    "# CSV 파일 읽기\n",
    "df = pd.read_csv(\"./data/movies_preprocessed.csv\")\n",
    "\n",
    "# \"genre\", \"content\", \"all\" 열 삭제\n",
    "df.drop([\"genre\", \"content\", \"all\"], axis=1, inplace=True)\n",
    "\n",
    "# 새로운 CSV 파일로 저장\n",
    "df.to_csv(\"./data/movies_preprocessed_new.csv\", index=False)\n"
   ]
  },
  {
   "cell_type": "code",
   "execution_count": null,
   "id": "7906f729-0181-4826-869d-04c26907ed8c",
   "metadata": {},
   "outputs": [],
   "source": []
  }
 ],
 "metadata": {
  "kernelspec": {
   "display_name": "Python 3 (ipykernel)",
   "language": "python",
   "name": "python3"
  },
  "language_info": {
   "codemirror_mode": {
    "name": "ipython",
    "version": 3
   },
   "file_extension": ".py",
   "mimetype": "text/x-python",
   "name": "python",
   "nbconvert_exporter": "python",
   "pygments_lexer": "ipython3",
   "version": "3.11.3"
  }
 },
 "nbformat": 4,
 "nbformat_minor": 5
}
