{
 "cells": [
  {
   "cell_type": "markdown",
   "id": "816b6255-672c-4ad5-880c-98c70728e5a4",
   "metadata": {},
   "source": [
    "## 연습 문제 1. 영화 추천하기\n",
    "\n",
    "데이터 셋 출처: https://www.kaggle.com/datasets/hijest/genre-classification-dataset-imdb\n",
    "\n",
    "IMDB는 영화 리뷰를 제공하는 웹 서비스입니다. 이 사이트에서 크롤링한 영화 제목, 장르, 줄거리 데이터 셋을 가지고 간단한 추천을 구현해보고자 합니다. 사용자는 자연어 형태로 본인이 원하는 영화의 장르, 특징, 줄거리 등을 입력하면 tf-idf를 이용하여 적절한 영화를 추천해주는 시스템을 개발해보세요."
   ]
  },
  {
   "cell_type": "code",
   "execution_count": 36,
   "id": "f07e0ecd-d237-4fbd-ad68-5a5e93aace92",
   "metadata": {
    "tags": []
   },
   "outputs": [
    {
     "name": "stderr",
     "output_type": "stream",
     "text": [
      "100%|█████████████████████████████████████████████████████████████████████████| 54214/54214 [00:04<00:00, 13282.86it/s]\n"
     ]
    },
    {
     "data": {
      "text/plain": [
       "<bound method Series.unique of 0              drama\n",
       "1           thriller\n",
       "2              adult\n",
       "3              drama\n",
       "4              drama\n",
       "            ...     \n",
       "54209         comedy\n",
       "54210         horror\n",
       "54211    documentary\n",
       "54212         comedy\n",
       "54213        history\n",
       "Name: genre, Length: 54214, dtype: object>"
      ]
     },
     "execution_count": 36,
     "metadata": {},
     "output_type": "execute_result"
    }
   ],
   "source": [
    "import pandas as pd\n",
    "from tqdm import tqdm\n",
    "\n",
    "tqdm.pandas()\n",
    "df = pd.read_csv(\"./data/movies_preprocessed.csv\")\n",
    "df[\"all_tokens\"] = df[\"all_tokens\"].progress_apply(lambda x: eval(x))\n",
    "df['genre'].unique\n"
   ]
  },
  {
   "cell_type": "code",
   "execution_count": 4,
   "id": "66eaa8b9-99f7-4167-8053-ec592a0f2cb9",
   "metadata": {
    "tags": []
   },
   "outputs": [
    {
     "name": "stdout",
     "output_type": "stream",
     "text": [
      "title                              Oscar et la dame rose (2009)\n",
      "genre                                                     drama\n",
      "content       Listening in to a conversation between his doc...\n",
      "all           Oscar et la dame rose drama Listening in to a ...\n",
      "all_tokens    ['oscar', 'et', 'la', 'dame', 'rose', 'drama',...\n",
      "Name: 0, dtype: object\n"
     ]
    }
   ],
   "source": [
    "print(df.iloc[0])"
   ]
  },
  {
   "cell_type": "code",
   "execution_count": 5,
   "id": "e135fdd5-09b2-4905-8cea-fd6ad263258f",
   "metadata": {
    "tags": []
   },
   "outputs": [
    {
     "data": {
      "text/plain": [
       "['listen', 'music']"
      ]
     },
     "execution_count": 5,
     "metadata": {},
     "output_type": "execute_result"
    }
   ],
   "source": [
    "from util import preprocess\n",
    "\n",
    "preprocess(\"Listening to the music\")"
   ]
  },
  {
   "cell_type": "code",
   "execution_count": 25,
   "id": "34465f88-776f-4b5f-9b63-c06f2743f467",
   "metadata": {
    "tags": []
   },
   "outputs": [
    {
     "name": "stdout",
     "output_type": "stream",
     "text": [
      "(54214, 116)\n",
      "<class 'scipy.sparse._csr.csr_matrix'>\n"
     ]
    }
   ],
   "source": [
    "from sklearn.feature_extraction.text import TfidfVectorizer\n",
    "\n",
    "# 더미 함수 정의: 입력을 그대로 반환\n",
    "def dummy_fun(doc):\n",
    "    return doc\n",
    "\n",
    "# TF-IDF Vectorizer 객체 생성\n",
    "tfidf = TfidfVectorizer(\n",
    "    analyzer='word', \n",
    "    tokenizer=dummy_fun,\n",
    "    preprocessor=dummy_fun, \n",
    "    token_pattern=None\n",
    ")\n",
    "\n",
    "# all_tokens 열로부터 TF-IDF 벡터를 학습 및 생성\n",
    "tfidf_csr_matrix = tfidf.fit_transform(df['all_tokens'])\n",
    "\n",
    "# TF-IDF 벡터의 형태 및 유형 출력\n",
    "print(tfidf_csr_matrix.shape)\n",
    "print(type(tfidf_csr_matrix))\n",
    "\n"
   ]
  },
  {
   "cell_type": "code",
   "execution_count": 30,
   "id": "036029bf-ddc4-4bac-915f-145855a372ce",
   "metadata": {
    "tags": []
   },
   "outputs": [
    {
     "name": "stdout",
     "output_type": "stream",
     "text": [
      "0.5885 International Comedian (2017)\n",
      "0.5725 Maggie (1960)\n",
      "0.5718 Kaffeefahrt ins Krematorium (2011)\n",
      "0.5667 Voices from the Graves (2006)\n",
      "0.5659 Gay USA (1978)\n"
     ]
    }
   ],
   "source": [
    "def search(query, k=5):\n",
    "    query = \" \".join(preprocess(query)) # 입력을 전처리하고 리스트를 문자열로 변환\n",
    "    query_tfidf = tfidf.transform([query]) # 전처리된 쿼리를 TF-IDF 벡터로 변환\n",
    "    similarities = cosine_similarity(query_tfidf, tfidf_csr_matrix).flatten() # 변환된 쿼리와 모든 영화 간의 코사인 유사도를 계산\n",
    "    top_similarities = sorted(similarities)[-k:][::-1] # 상위 k개의 가장 유사한 문서의 유사도를 가져옴\n",
    "    top_indices = similarities.argsort()[-k:][::-1] # 상위 k개의 가장 유사한 문서의 인덱스를 가져옴\n",
    "    top_titles = [df.iloc[i]['title'] for i in top_indices] # 상위 k개의 문서의 제목을 가져옴\n",
    "    for similarity, title in zip(top_similarities, top_titles):\n",
    "        print(round(similarity, 4), title) # 상위 k개의 문서의 유사도와 제목을 출력\n",
    "\n",
    "        \n",
    "        \n",
    "# 사용 예시:\n",
    "search(\"I want to watch a comedy movie\") # 사용자가 코미디 영화를 보고 싶어한다고 가정\n"
   ]
  },
  {
   "cell_type": "code",
   "execution_count": 31,
   "id": "cc1a5b18-2acb-47dc-9b7e-de05dbf9cd75",
   "metadata": {
    "tags": []
   },
   "outputs": [
    {
     "name": "stdout",
     "output_type": "stream",
     "text": [
      "0.558 Taking Tiger Mountain (1983)\n",
      "0.5548 Voices from the Graves (2006)\n",
      "0.553 A Big Tit Christmas 2 (2011)\n",
      "0.5516 The Kitchenistas of National City (2015)\n",
      "0.5512 In Cockpit (2008)\n"
     ]
    }
   ],
   "source": [
    "# 사용 예시:\n",
    "search(\"I want to watch a sci-fi movie\") # 사용자가 코미디 영화를 보고 싶어한다고 가정"
   ]
  },
  {
   "cell_type": "code",
   "execution_count": 34,
   "id": "b2f9baaa-e30f-4f65-becb-1b519ff4f0fa",
   "metadata": {
    "tags": []
   },
   "outputs": [
    {
     "name": "stdout",
     "output_type": "stream",
     "text": [
      "0.5815 AMAZONIA 'Out of the Dark' (????)\n",
      "0.575 International Comedian (2017)\n",
      "0.5661 The Kitchenistas of National City (2015)\n",
      "0.5615 Kirn's reconciliation (2017)\n",
      "0.5571 The Lost Civilizations of North America (2010)\n"
     ]
    }
   ],
   "source": [
    "# 사용 예시:\n",
    "search(\"I want to watch a action movie\") # 사용자가 코미디 영화를 보고 싶어한다고 가정"
   ]
  },
  {
   "cell_type": "code",
   "execution_count": 35,
   "id": "31223ca8-3a04-4e60-9fb1-08e834f29c47",
   "metadata": {
    "tags": []
   },
   "outputs": [
    {
     "name": "stdout",
     "output_type": "stream",
     "text": [
      "0.5881 International Comedian (2017)\n",
      "0.5716 AMAZONIA 'Out of the Dark' (????)\n",
      "0.5634 Transnational Tradeswomen (2006)\n",
      "0.5605 Kaffeefahrt ins Krematorium (2011)\n",
      "0.5585 Ocean (2017/III)\n"
     ]
    }
   ],
   "source": [
    "# 사용 예시:\n",
    "search(\"I want to watch a romance movie\") # 사용자가 코미디 영화를 보고 싶어한다고 가정"
   ]
  },
  {
   "cell_type": "code",
   "execution_count": 21,
   "id": "98c9e875-91f2-4905-a592-4c2e43aa5846",
   "metadata": {
    "tags": []
   },
   "outputs": [
    {
     "data": {
      "text/plain": [
       "array(['drama', 'thriller', 'adult', 'documentary', 'comedy', 'crime',\n",
       "       'reality-tv', 'horror', 'sport', 'animation', 'action', 'fantasy',\n",
       "       'short', 'sci-fi', 'music', 'adventure', 'talk-show', 'western',\n",
       "       'family', 'mystery', 'history', 'news', 'biography', 'romance',\n",
       "       'game-show', 'musical', 'war'], dtype=object)"
      ]
     },
     "execution_count": 21,
     "metadata": {},
     "output_type": "execute_result"
    }
   ],
   "source": [
    "df['genre'].unique()"
   ]
  },
  {
   "cell_type": "code",
   "execution_count": 24,
   "id": "13ac2104-5009-4353-aece-df0bde5f2b27",
   "metadata": {
    "tags": []
   },
   "outputs": [
    {
     "name": "stdout",
     "output_type": "stream",
     "text": [
      "0.8366 Mary McCarthy's Paris (1964)\n",
      "0.8341 The Ebb-Tide (1998)\n",
      "0.8325 The Right Hand Man (2004)\n",
      "0.8287 Hein Fach (2004)\n",
      "0.8264 Checking Out (1989)\n"
     ]
    }
   ],
   "source": [
    "search(\"I want to watch a sci-fi \")\n"
   ]
  }
 ],
 "metadata": {
  "kernelspec": {
   "display_name": "Python 3 (ipykernel)",
   "language": "python",
   "name": "python3"
  },
  "language_info": {
   "codemirror_mode": {
    "name": "ipython",
    "version": 3
   },
   "file_extension": ".py",
   "mimetype": "text/x-python",
   "name": "python",
   "nbconvert_exporter": "python",
   "pygments_lexer": "ipython3",
   "version": "3.11.3"
  }
 },
 "nbformat": 4,
 "nbformat_minor": 5
}
