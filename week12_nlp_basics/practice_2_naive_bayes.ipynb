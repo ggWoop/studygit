{
 "cells": [
  {
   "cell_type": "code",
   "execution_count": null,
   "id": "1798460c-792e-4f65-8997-a88e8f605ead",
   "metadata": {},
   "outputs": [],
   "source": [
    "from nltk.tokenize import RegexpTokenizer\n",
    "from nltk.stem import WordNetLemmatizer\n",
    "from nltk.corpus import stopwords\n",
    "import nltk\n",
    "\n",
    "nltk.download(\"punkt\")\n",
    "nltk.download(\"wordnet\")\n",
    "nltk.download('stopwords')\n",
    "stop_words_list = stopwords.words(\"english\")\n",
    "\n",
    "def preprocess(text):\n",
    "    text = text.lower()\n",
    "    text = re.sub(r\"'s|n't\\b\", \"\", text)\n",
    "    tokenizer = RegexpTokenizer(r'\\w+')\n",
    "    tokens = tokenizer.tokenize(text)\n",
    "    lemmatizer = WordNetLemmatizer()\n",
    "    stems = [lemmatizer.lemmatize(token) for token in tokens]\n",
    "    filtered_tokens = [x for x in stems if x not in stop_words_list and not x.isdigit()]\n",
    "    return filtered_tokens\n",
    "from tqdm import tqdm\n",
    "\n",
    "tqdm.pandas()\n",
    "df[\"content_tokens\"] = df[\"content\"].progress_apply(lambda x: preprocess(x))"
   ]
  }
 ],
 "metadata": {
  "kernelspec": {
   "display_name": "Python 3 (ipykernel)",
   "language": "python",
   "name": "python3"
  },
  "language_info": {
   "codemirror_mode": {
    "name": "ipython",
    "version": 3
   },
   "file_extension": ".py",
   "mimetype": "text/x-python",
   "name": "python",
   "nbconvert_exporter": "python",
   "pygments_lexer": "ipython3",
   "version": "3.11.3"
  }
 },
 "nbformat": 4,
 "nbformat_minor": 5
}
